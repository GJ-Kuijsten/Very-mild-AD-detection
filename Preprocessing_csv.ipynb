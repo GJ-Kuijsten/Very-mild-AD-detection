{
 "cells": [
  {
   "cell_type": "code",
   "execution_count": 32,
   "id": "8b382cee-97a3-4495-8209-83f48bedcca7",
   "metadata": {},
   "outputs": [],
   "source": [
    "# pandas for data manipulation\n",
    "import pandas as pd"
   ]
  },
  {
   "cell_type": "code",
   "execution_count": 33,
   "id": "53eae807-cad1-4722-be83-13dd575c1036",
   "metadata": {},
   "outputs": [],
   "source": [
    "# path to csv file\n",
    "csv_path = r\"C:\\Users\\gjkku\\OneDrive\\Documenten\\CSAI year 3\\Thesis\\oasis_cross-sectional-5708aa0a98d82080.csv\""
   ]
  },
  {
   "cell_type": "code",
   "execution_count": 42,
   "id": "5ebed37c-a460-44d0-a568-82ecc03388eb",
   "metadata": {},
   "outputs": [
    {
     "name": "stdout",
     "output_type": "stream",
     "text": [
      "CDR\n",
      "NaN    201\n",
      "0.0    135\n",
      "0.5     70\n",
      "1.0     28\n",
      "2.0      2\n",
      "Name: count, dtype: int64\n"
     ]
    },
    {
     "data": {
      "text/plain": [
       "CDR\n",
       "0.0    69.074074\n",
       "0.5    76.214286\n",
       "1.0    77.750000\n",
       "2.0    82.000000\n",
       "Name: Age, dtype: float64"
      ]
     },
     "execution_count": 42,
     "metadata": {},
     "output_type": "execute_result"
    }
   ],
   "source": [
    "# reading the csv file into a dataframe with error handling\n",
    "try:\n",
    "    df = pd.read_csv(csv_path, decimal='.')\n",
    "except FileNotFoundError:\n",
    "    print(f\"Error: Path to file was not found\")\n",
    "\n",
    "print(df['CDR'].value_counts(dropna=False))"
   ]
  },
  {
   "cell_type": "code",
   "execution_count": 35,
   "id": "772e02db-f934-4b2b-8c82-d385ce28c93d",
   "metadata": {},
   "outputs": [],
   "source": [
    "# function that classifies subjects based on their CDR rating\n",
    "def CDR_classes(cdr):\n",
    "    if pd.isna(cdr): # NaN values classified as non demented\n",
    "        return \"Non Demented\"\n",
    "    elif cdr == 0: # -> no dementia\n",
    "        return \"Non Demented\"\n",
    "    elif cdr == 0.5: # -> very mild dementia\n",
    "        return \"Very Mild Dementia\"\n",
    "    elif cdr >= 1: # -> mild dementia\n",
    "        return \"Mild Dementia\"\n",
    "    else:\n",
    "        return \"unexpected value\" # handling any unexpected values"
   ]
  },
  {
   "cell_type": "code",
   "execution_count": 36,
   "id": "fa0fce4c-ce24-4f20-bd60-bc6746327e31",
   "metadata": {},
   "outputs": [],
   "source": [
    "# applying CDR classes function to create a new 'Class' column\n",
    "df['Class'] = df['CDR'].apply(CDR_classes) # 'Class' column containing the dementia category for each subject\n",
    "\n",
    "# group dataframe by 'Class' and collecting a list of subject IDs for each class\n",
    "class_groups = df.groupby('Class')['ID'].apply(list).to_dict() # storing result as dictionary: keys are class names, values are lists of IDs"
   ]
  },
  {
   "cell_type": "code",
   "execution_count": 37,
   "id": "24037da2-fe95-4469-929a-27bd7a1f6a3d",
   "metadata": {},
   "outputs": [
    {
     "name": "stdout",
     "output_type": "stream",
     "text": [
      "Number of subjects in each class:\n",
      "Mild Dementia: 30 subjects\n",
      "Non Demented: 336 subjects\n",
      "Very Mild Dementia: 70 subjects\n"
     ]
    }
   ],
   "source": [
    "# number of subjects for each dementia class\n",
    "print(\"Number of subjects in each class:\")\n",
    "for class_name, subject_ids in class_groups.items():\n",
    "    print(f\"{class_name}: {len(subject_ids)} subjects\")"
   ]
  },
  {
   "cell_type": "code",
   "execution_count": 38,
   "id": "94bd6281-0ad7-4be1-85d1-e1814e1c056e",
   "metadata": {},
   "outputs": [],
   "source": [
    "# define classes: non demented and very mild demented\n",
    "binary_classes = [\"Non Demented\", \"Very Mild Dementia\"]\n",
    "# filter dataframe to only include rows with the binary classes\n",
    "binary_df = df[df['Class'].isin(binary_classes)]"
   ]
  },
  {
   "cell_type": "code",
   "execution_count": 39,
   "id": "c9a8049e-3bd2-41f4-9a1b-bd1eec389270",
   "metadata": {},
   "outputs": [],
   "source": [
    "# path for the new csv file\n",
    "new_binary_csv_path = r\"C:\\Users\\gjkku\\OneDrive\\Documenten\\CSAI year 3\\Thesis\\csv_binary.csv\"\n",
    "# save dataframe to new csv file\n",
    "binary_df.to_csv(new_binary_csv_path, index=False, sep='\\t')"
   ]
  },
  {
   "cell_type": "code",
   "execution_count": 40,
   "id": "474bd7a4-f30e-4479-a062-7112807bcbb1",
   "metadata": {},
   "outputs": [
    {
     "name": "stdout",
     "output_type": "stream",
     "text": [
      "\n",
      "Binary classification subset saved to C:\\Users\\gjkku\\OneDrive\\Documenten\\CSAI year 3\\Thesis\\csv_binary.csv\n",
      "Total subjects for binary classification: 406\n"
     ]
    }
   ],
   "source": [
    "# print path where csv file is saved\n",
    "print(f\"\\nBinary classification subset saved to {new_binary_csv_path}\")\n",
    "# print total numbers of subjects in classification subset (included NaN values)\n",
    "print(f\"Total subjects for binary classification: {len(binary_df)}\")"
   ]
  },
  {
   "cell_type": "code",
   "execution_count": 41,
   "id": "0875e807-20e4-4faf-821f-5abddb30a6e1",
   "metadata": {},
   "outputs": [
    {
     "name": "stdout",
     "output_type": "stream",
     "text": [
      "\n",
      "Subject IDs for each class:\n",
      "Mild Dementia: ['OAS1_0028_MR1', 'OAS1_0031_MR1', 'OAS1_0035_MR1', 'OAS1_0052_MR1', 'OAS1_0053_MR1', 'OAS1_0056_MR1', 'OAS1_0067_MR1', 'OAS1_0073_MR1', 'OAS1_0122_MR1', 'OAS1_0134_MR1', 'OAS1_0137_MR1', 'OAS1_0184_MR1', 'OAS1_0185_MR1', 'OAS1_0223_MR1', 'OAS1_0268_MR1', 'OAS1_0269_MR1', 'OAS1_0278_MR1', 'OAS1_0291_MR1', 'OAS1_0308_MR1', 'OAS1_0316_MR1', 'OAS1_0351_MR1', 'OAS1_0373_MR1', 'OAS1_0382_MR1', 'OAS1_0388_MR1', 'OAS1_0399_MR1', 'OAS1_0405_MR1', 'OAS1_0424_MR1', 'OAS1_0425_MR1', 'OAS1_0430_MR1', 'OAS1_0452_MR1']\n",
      "Non Demented: ['OAS1_0001_MR1', 'OAS1_0002_MR1', 'OAS1_0004_MR1', 'OAS1_0005_MR1', 'OAS1_0006_MR1', 'OAS1_0007_MR1', 'OAS1_0009_MR1', 'OAS1_0010_MR1', 'OAS1_0011_MR1', 'OAS1_0012_MR1', 'OAS1_0013_MR1', 'OAS1_0014_MR1', 'OAS1_0017_MR1', 'OAS1_0018_MR1', 'OAS1_0019_MR1', 'OAS1_0020_MR1', 'OAS1_0025_MR1', 'OAS1_0026_MR1', 'OAS1_0027_MR1', 'OAS1_0029_MR1', 'OAS1_0030_MR1', 'OAS1_0032_MR1', 'OAS1_0033_MR1', 'OAS1_0034_MR1', 'OAS1_0037_MR1', 'OAS1_0038_MR1', 'OAS1_0040_MR1', 'OAS1_0043_MR1', 'OAS1_0044_MR1', 'OAS1_0045_MR1', 'OAS1_0047_MR1', 'OAS1_0049_MR1', 'OAS1_0050_MR1', 'OAS1_0051_MR1', 'OAS1_0054_MR1', 'OAS1_0055_MR1', 'OAS1_0057_MR1', 'OAS1_0058_MR1', 'OAS1_0059_MR1', 'OAS1_0061_MR1', 'OAS1_0062_MR1', 'OAS1_0063_MR1', 'OAS1_0064_MR1', 'OAS1_0065_MR1', 'OAS1_0068_MR1', 'OAS1_0069_MR1', 'OAS1_0070_MR1', 'OAS1_0071_MR1', 'OAS1_0072_MR1', 'OAS1_0074_MR1', 'OAS1_0075_MR1', 'OAS1_0076_MR1', 'OAS1_0077_MR1', 'OAS1_0078_MR1', 'OAS1_0079_MR1', 'OAS1_0080_MR1', 'OAS1_0081_MR1', 'OAS1_0083_MR1', 'OAS1_0085_MR1', 'OAS1_0086_MR1', 'OAS1_0087_MR1', 'OAS1_0088_MR1', 'OAS1_0090_MR1', 'OAS1_0091_MR1', 'OAS1_0092_MR1', 'OAS1_0095_MR1', 'OAS1_0096_MR1', 'OAS1_0097_MR1', 'OAS1_0099_MR1', 'OAS1_0101_MR1', 'OAS1_0102_MR1', 'OAS1_0103_MR1', 'OAS1_0104_MR1', 'OAS1_0105_MR1', 'OAS1_0106_MR1', 'OAS1_0107_MR1', 'OAS1_0108_MR1', 'OAS1_0109_MR1', 'OAS1_0110_MR1', 'OAS1_0111_MR1', 'OAS1_0112_MR1', 'OAS1_0113_MR1', 'OAS1_0114_MR1', 'OAS1_0116_MR1', 'OAS1_0117_MR1', 'OAS1_0119_MR1', 'OAS1_0121_MR1', 'OAS1_0125_MR1', 'OAS1_0126_MR1', 'OAS1_0127_MR1', 'OAS1_0129_MR1', 'OAS1_0130_MR1', 'OAS1_0131_MR1', 'OAS1_0132_MR1', 'OAS1_0133_MR1', 'OAS1_0135_MR1', 'OAS1_0136_MR1', 'OAS1_0138_MR1', 'OAS1_0139_MR1', 'OAS1_0140_MR1', 'OAS1_0141_MR1', 'OAS1_0144_MR1', 'OAS1_0145_MR1', 'OAS1_0146_MR1', 'OAS1_0147_MR1', 'OAS1_0148_MR1', 'OAS1_0150_MR1', 'OAS1_0151_MR1', 'OAS1_0152_MR1', 'OAS1_0153_MR1', 'OAS1_0156_MR1', 'OAS1_0157_MR1', 'OAS1_0159_MR1', 'OAS1_0160_MR1', 'OAS1_0162_MR1', 'OAS1_0163_MR1', 'OAS1_0165_MR1', 'OAS1_0167_MR1', 'OAS1_0168_MR1', 'OAS1_0169_MR1', 'OAS1_0170_MR1', 'OAS1_0173_MR1', 'OAS1_0174_MR1', 'OAS1_0176_MR1', 'OAS1_0177_MR1', 'OAS1_0178_MR1', 'OAS1_0180_MR1', 'OAS1_0181_MR1', 'OAS1_0182_MR1', 'OAS1_0183_MR1', 'OAS1_0186_MR1', 'OAS1_0188_MR1', 'OAS1_0189_MR1', 'OAS1_0190_MR1', 'OAS1_0191_MR1', 'OAS1_0192_MR1', 'OAS1_0193_MR1', 'OAS1_0195_MR1', 'OAS1_0197_MR1', 'OAS1_0198_MR1', 'OAS1_0199_MR1', 'OAS1_0200_MR1', 'OAS1_0201_MR1', 'OAS1_0202_MR1', 'OAS1_0203_MR1', 'OAS1_0204_MR1', 'OAS1_0206_MR1', 'OAS1_0207_MR1', 'OAS1_0208_MR1', 'OAS1_0209_MR1', 'OAS1_0211_MR1', 'OAS1_0212_MR1', 'OAS1_0213_MR1', 'OAS1_0214_MR1', 'OAS1_0216_MR1', 'OAS1_0218_MR1', 'OAS1_0220_MR1', 'OAS1_0221_MR1', 'OAS1_0222_MR1', 'OAS1_0224_MR1', 'OAS1_0227_MR1', 'OAS1_0228_MR1', 'OAS1_0229_MR1', 'OAS1_0230_MR1', 'OAS1_0231_MR1', 'OAS1_0232_MR1', 'OAS1_0234_MR1', 'OAS1_0235_MR1', 'OAS1_0236_MR1', 'OAS1_0237_MR1', 'OAS1_0239_MR1', 'OAS1_0241_MR1', 'OAS1_0244_MR1', 'OAS1_0246_MR1', 'OAS1_0249_MR1', 'OAS1_0250_MR1', 'OAS1_0253_MR1', 'OAS1_0254_MR1', 'OAS1_0255_MR1', 'OAS1_0256_MR1', 'OAS1_0258_MR1', 'OAS1_0259_MR1', 'OAS1_0260_MR1', 'OAS1_0261_MR1', 'OAS1_0262_MR1', 'OAS1_0264_MR1', 'OAS1_0265_MR1', 'OAS1_0266_MR1', 'OAS1_0270_MR1', 'OAS1_0271_MR1', 'OAS1_0274_MR1', 'OAS1_0275_MR1', 'OAS1_0277_MR1', 'OAS1_0279_MR1', 'OAS1_0280_MR1', 'OAS1_0281_MR1', 'OAS1_0282_MR1', 'OAS1_0283_MR1', 'OAS1_0284_MR1', 'OAS1_0285_MR1', 'OAS1_0289_MR1', 'OAS1_0292_MR1', 'OAS1_0293_MR1', 'OAS1_0294_MR1', 'OAS1_0295_MR1', 'OAS1_0296_MR1', 'OAS1_0299_MR1', 'OAS1_0301_MR1', 'OAS1_0302_MR1', 'OAS1_0303_MR1', 'OAS1_0305_MR1', 'OAS1_0309_MR1', 'OAS1_0310_MR1', 'OAS1_0311_MR1', 'OAS1_0313_MR1', 'OAS1_0314_MR1', 'OAS1_0317_MR1', 'OAS1_0318_MR1', 'OAS1_0319_MR1', 'OAS1_0321_MR1', 'OAS1_0322_MR1', 'OAS1_0323_MR1', 'OAS1_0325_MR1', 'OAS1_0326_MR1', 'OAS1_0327_MR1', 'OAS1_0328_MR1', 'OAS1_0330_MR1', 'OAS1_0331_MR1', 'OAS1_0332_MR1', 'OAS1_0333_MR1', 'OAS1_0336_MR1', 'OAS1_0337_MR1', 'OAS1_0338_MR1', 'OAS1_0340_MR1', 'OAS1_0341_MR1', 'OAS1_0342_MR1', 'OAS1_0343_MR1', 'OAS1_0344_MR1', 'OAS1_0345_MR1', 'OAS1_0346_MR1', 'OAS1_0348_MR1', 'OAS1_0349_MR1', 'OAS1_0350_MR1', 'OAS1_0353_MR1', 'OAS1_0354_MR1', 'OAS1_0355_MR1', 'OAS1_0356_MR1', 'OAS1_0357_MR1', 'OAS1_0358_MR1', 'OAS1_0359_MR1', 'OAS1_0361_MR1', 'OAS1_0363_MR1', 'OAS1_0365_MR1', 'OAS1_0366_MR1', 'OAS1_0367_MR1', 'OAS1_0368_MR1', 'OAS1_0369_MR1', 'OAS1_0370_MR1', 'OAS1_0371_MR1', 'OAS1_0372_MR1', 'OAS1_0375_MR1', 'OAS1_0376_MR1', 'OAS1_0377_MR1', 'OAS1_0378_MR1', 'OAS1_0379_MR1', 'OAS1_0381_MR1', 'OAS1_0383_MR1', 'OAS1_0384_MR1', 'OAS1_0385_MR1', 'OAS1_0386_MR1', 'OAS1_0387_MR1', 'OAS1_0389_MR1', 'OAS1_0392_MR1', 'OAS1_0394_MR1', 'OAS1_0395_MR1', 'OAS1_0396_MR1', 'OAS1_0397_MR1', 'OAS1_0398_MR1', 'OAS1_0401_MR1', 'OAS1_0403_MR1', 'OAS1_0404_MR1', 'OAS1_0406_MR1', 'OAS1_0407_MR1', 'OAS1_0408_MR1', 'OAS1_0409_MR1', 'OAS1_0410_MR1', 'OAS1_0413_MR1', 'OAS1_0415_MR1', 'OAS1_0416_MR1', 'OAS1_0417_MR1', 'OAS1_0419_MR1', 'OAS1_0420_MR1', 'OAS1_0421_MR1', 'OAS1_0422_MR1', 'OAS1_0423_MR1', 'OAS1_0426_MR1', 'OAS1_0428_MR1', 'OAS1_0429_MR1', 'OAS1_0431_MR1', 'OAS1_0433_MR1', 'OAS1_0434_MR1', 'OAS1_0435_MR1', 'OAS1_0437_MR1', 'OAS1_0438_MR1', 'OAS1_0439_MR1', 'OAS1_0442_MR1', 'OAS1_0443_MR1', 'OAS1_0444_MR1', 'OAS1_0445_MR1', 'OAS1_0446_MR1', 'OAS1_0448_MR1', 'OAS1_0449_MR1', 'OAS1_0450_MR1', 'OAS1_0455_MR1', 'OAS1_0456_MR1', 'OAS1_0457_MR1', 'OAS1_0061_MR2', 'OAS1_0080_MR2', 'OAS1_0092_MR2', 'OAS1_0101_MR2', 'OAS1_0111_MR2', 'OAS1_0117_MR2', 'OAS1_0145_MR2', 'OAS1_0150_MR2', 'OAS1_0156_MR2', 'OAS1_0191_MR2', 'OAS1_0202_MR2', 'OAS1_0230_MR2', 'OAS1_0236_MR2', 'OAS1_0239_MR2', 'OAS1_0249_MR2', 'OAS1_0285_MR2', 'OAS1_0353_MR2', 'OAS1_0368_MR2', 'OAS1_0379_MR2', 'OAS1_0395_MR2']\n",
      "Very Mild Dementia: ['OAS1_0003_MR1', 'OAS1_0015_MR1', 'OAS1_0016_MR1', 'OAS1_0021_MR1', 'OAS1_0022_MR1', 'OAS1_0023_MR1', 'OAS1_0039_MR1', 'OAS1_0041_MR1', 'OAS1_0042_MR1', 'OAS1_0046_MR1', 'OAS1_0060_MR1', 'OAS1_0066_MR1', 'OAS1_0082_MR1', 'OAS1_0084_MR1', 'OAS1_0094_MR1', 'OAS1_0098_MR1', 'OAS1_0115_MR1', 'OAS1_0120_MR1', 'OAS1_0123_MR1', 'OAS1_0124_MR1', 'OAS1_0142_MR1', 'OAS1_0143_MR1', 'OAS1_0155_MR1', 'OAS1_0158_MR1', 'OAS1_0161_MR1', 'OAS1_0164_MR1', 'OAS1_0166_MR1', 'OAS1_0179_MR1', 'OAS1_0205_MR1', 'OAS1_0210_MR1', 'OAS1_0217_MR1', 'OAS1_0226_MR1', 'OAS1_0233_MR1', 'OAS1_0238_MR1', 'OAS1_0240_MR1', 'OAS1_0243_MR1', 'OAS1_0247_MR1', 'OAS1_0263_MR1', 'OAS1_0267_MR1', 'OAS1_0272_MR1', 'OAS1_0273_MR1', 'OAS1_0286_MR1', 'OAS1_0287_MR1', 'OAS1_0288_MR1', 'OAS1_0290_MR1', 'OAS1_0298_MR1', 'OAS1_0300_MR1', 'OAS1_0304_MR1', 'OAS1_0307_MR1', 'OAS1_0312_MR1', 'OAS1_0315_MR1', 'OAS1_0329_MR1', 'OAS1_0335_MR1', 'OAS1_0339_MR1', 'OAS1_0352_MR1', 'OAS1_0362_MR1', 'OAS1_0374_MR1', 'OAS1_0380_MR1', 'OAS1_0390_MR1', 'OAS1_0400_MR1', 'OAS1_0402_MR1', 'OAS1_0411_MR1', 'OAS1_0418_MR1', 'OAS1_0432_MR1', 'OAS1_0440_MR1', 'OAS1_0441_MR1', 'OAS1_0447_MR1', 'OAS1_0451_MR1', 'OAS1_0453_MR1', 'OAS1_0454_MR1']\n"
     ]
    }
   ],
   "source": [
    "# print list of subject IDs for each dementia class\n",
    "print(\"\\nSubject IDs for each class:\")\n",
    "for class_name, subject_ids in class_groups.items():\n",
    "    print(f\"{class_name}: {subject_ids}\")"
   ]
  }
 ],
 "metadata": {
  "kernelspec": {
   "display_name": "Python 3 (ipykernel)",
   "language": "python",
   "name": "python3"
  },
  "language_info": {
   "codemirror_mode": {
    "name": "ipython",
    "version": 3
   },
   "file_extension": ".py",
   "mimetype": "text/x-python",
   "name": "python",
   "nbconvert_exporter": "python",
   "pygments_lexer": "ipython3",
   "version": "3.12.7"
  }
 },
 "nbformat": 4,
 "nbformat_minor": 5
}
